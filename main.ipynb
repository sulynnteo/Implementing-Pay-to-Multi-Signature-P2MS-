{
 "cells": [
  {
   "cell_type": "code",
   "execution_count": 1,
   "metadata": {},
   "outputs": [],
   "source": [
    "from Crypto.Hash import SHA256\n",
    "from Crypto.PublicKey import DSA\n",
    "from Crypto.Signature import DSS"
   ]
  },
  {
   "cell_type": "code",
   "execution_count": 2,
   "metadata": {},
   "outputs": [
    {
     "name": "stdout",
     "output_type": "stream",
     "text": [
      "5388046244402945161411644547476097474573607382981232463791020574374399649175583151445694649632118936428860292543699331279152537613625154903571377702391595511136361298974266205250275166181962606929476489790613419799431960273892655520578870779473662560591719972294730345998971052454727363047139523718723846822390637947004792807689294653550815356864335441493705814791832641478708031263960454185992006286006467199165918296360462922953169863575912779365566837155728993371528948814157142524076159068816386063561735951368383586907364474010376470826053200488297990539368209325471056345204440914303121112723269336987046637240\n"
     ]
    }
   ],
   "source": [
    "domain = DSA.generate(2048).domain()\n",
    "key = DSA.generate(2048, domain=domain).y\n",
    "print(key)"
   ]
  },
  {
   "cell_type": "code",
   "execution_count": null,
   "metadata": {},
   "outputs": [],
   "source": []
  }
 ],
 "metadata": {
  "kernelspec": {
   "display_name": "Python 3.10.4 ('csci')",
   "language": "python",
   "name": "python3"
  },
  "language_info": {
   "codemirror_mode": {
    "name": "ipython",
    "version": 3
   },
   "file_extension": ".py",
   "mimetype": "text/x-python",
   "name": "python",
   "nbconvert_exporter": "python",
   "pygments_lexer": "ipython3",
   "version": "3.10.4"
  },
  "orig_nbformat": 4,
  "vscode": {
   "interpreter": {
    "hash": "b56f1ae4cd3e82ef605c4b809a4f5316e891e2c380529b2976ebe3365e1bcb8a"
   }
  }
 },
 "nbformat": 4,
 "nbformat_minor": 2
}
